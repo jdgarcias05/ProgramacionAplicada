{
 "cells": [
  {
   "cell_type": "markdown",
   "metadata": {
    "id": "9V8H3tuxsKL9"
   },
   "source": [
    "## Conjuntos, Listas, Diccionarios, Matrices y más\n",
    "\n",
    "---\n",
    "Este cuaderno explica diferentes formas de manejar estructuras de datos como conjuntos (sets), listas, listas anidadas, diccionarios, matrices, entre otras.\n",
    "\n",
    "---"
   ]
  },
  {
   "cell_type": "code",
   "execution_count": null,
   "metadata": {
    "colab": {
     "base_uri": "https://localhost:8080/"
    },
    "id": "6RTLkelqkcms",
    "outputId": "6825edf9-85df-4bb4-a351-4d421257eebf"
   },
   "outputs": [
    {
     "name": "stdout",
     "output_type": "stream",
     "text": [
      "{'cat', 'dog', 'goldfish', 'canary'}\n"
     ]
    }
   ],
   "source": [
    "animals = {'cat', 'dog', 'goldfish', 'canary', 'cat'}\n",
    "print(animals) # El conjunto solo contiene un elemento 'cat', ya que los sets eliminan duplicados automáticamente\n"
   ]
  },
  {
   "cell_type": "code",
   "execution_count": null,
   "metadata": {
    "colab": {
     "base_uri": "https://localhost:8080/"
    },
    "id": "tfqSHSy3lJ8d",
    "outputId": "33a35664-6c06-4544-8b1c-a283d9922f35"
   },
   "outputs": [
    {
     "name": "stdout",
     "output_type": "stream",
     "text": [
      "{9, 7}\n",
      "{2, 4, 6, 7, 8, 9, 10}\n",
      "{8, 10, 6}\n"
     ]
    }
   ],
   "source": [
    "even_numbers = {2, 4, 6, 8, 10}\n",
    "big_numbers = {6, 7, 8, 9, 10}\n",
    "\n",
    " # Diferencia: se imprimen los elementos de 'big_numbers' que no están en 'even_numbers'\n",
    "print(big_numbers - even_numbers)\n",
    "\n",
    "# Unión: se imprimen todos los elementos que están en al menos uno de los conjuntos\n",
    "print(big_numbers | even_numbers)\n",
    "\n",
    "# Intersección: se imprimen los elementos que están en ambos conjuntos\n",
    "print(big_numbers & even_numbers)"
   ]
  },
  {
   "cell_type": "code",
   "execution_count": null,
   "metadata": {
    "colab": {
     "base_uri": "https://localhost:8080/"
    },
    "id": "REf5Ll7pl3Pr",
    "outputId": "f342d939-ef15-45ac-ac06-f8b6c109aa63"
   },
   "outputs": [
    {
     "name": "stdout",
     "output_type": "stream",
     "text": [
      "{'cat', 'dog', 'goldfish', 'canary'}\n",
      "['canary', 'cat', 'dog', 'goldfish']\n"
     ]
    }
   ],
   "source": [
    "print(animals) #imprime la lista\n",
    "print(sorted(animals)) #imprime la lista en orden alfabetico\n"
   ]
  },
  {
   "cell_type": "code",
   "execution_count": null,
   "metadata": {
    "id": "W62ocdammMhY"
   },
   "outputs": [],
   "source": [
    "# esto es un diccionario vacio\n",
    "a = {}\n",
    "#esto es un set vacio\n",
    "b = set()"
   ]
  },
  {
   "cell_type": "code",
   "execution_count": null,
   "metadata": {
    "colab": {
     "base_uri": "https://localhost:8080/"
    },
    "id": "HluEBOxbmX0z",
    "outputId": "d5f26a77-e1fd-44a2-8c43-f0eec4cadaec"
   },
   "outputs": [
    {
     "name": "stdout",
     "output_type": "stream",
     "text": [
      "[0, 1, 2, 3, 4, 5, 6, 7, 8, 9]\n",
      "[1, 2, 3, 4, 5, 6, 7, 8, 9, 10]\n",
      "[1, 3, 5, 7, 9]\n"
     ]
    }
   ],
   "source": [
    " #imprime los enteros entre 0 y 9\n",
    "print(list(range(10)))\n",
    "\n",
    " #imprime enteros desde 1 hasta 10\n",
    "print(list(range(1, 11)))\n",
    "\n",
    "#imprime enteros de 1 a 10 de dos en dos\n",
    "print(list(range(1, 11, 2)))"
   ]
  },
  {
   "cell_type": "code",
   "execution_count": null,
   "metadata": {
    "colab": {
     "base_uri": "https://localhost:8080/"
    },
    "id": "6t6kIb8XmyN1",
    "outputId": "4e2654b2-a43b-4f88-b12d-b2c475efa6dc"
   },
   "outputs": [
    {
     "name": "stdout",
     "output_type": "stream",
     "text": [
      "{'cat', 'dog', 'goldfish', 'canary'}\n",
      "['cat', 'dog', 'goldfish', 'canary']\n",
      "('cat', 'dog', 'goldfish', 'canary')\n"
     ]
    }
   ],
   "source": [
    "animals = ['cat', 'dog', 'goldfish', 'canary', 'cat']\n",
    "\n",
    "animals_set = set(animals)  #convierte la lista en un conjunto y elimina los repetidos\n",
    "print(animals_set)\n",
    "animals_unique_list = list(animals_set) #convierte el conjunto en una lista y como se elimino el otro elemtro repetido con el conjunto, no aparece\n",
    "print(animals_unique_list)\n",
    "animals_unique_tuple = tuple(animals_unique_list)  #convierte la lista en una tupla\n",
    "print(animals_unique_tuple)"
   ]
  },
  {
   "cell_type": "code",
   "execution_count": null,
   "metadata": {
    "colab": {
     "base_uri": "https://localhost:8080/"
    },
    "id": "3quvGBv0nNS8",
    "outputId": "fc054e83-5490-4fd8-f815-47ead7e662d9"
   },
   "outputs": [
    {
     "name": "stdout",
     "output_type": "stream",
     "text": [
      "['red', 'green', 'brown', 'yellow']\n",
      "(34, 30, 31, 29)\n"
     ]
    }
   ],
   "source": [
    "marbles = {\"red\": 34, \"green\": 30, \"brown\": 31, \"yellow\": 29 }\n",
    "\n",
    "colours = list(marbles) # the keys will be used by default  #las claves se usan como los defaults\n",
    "print(colours)\n",
    "counts = tuple(marbles.values()) # but we can use a view to get the values #usa los valores\n",
    "print(counts)\n",
    "marbles_set = set(marbles.items()) # or the key-value pairs #usa la clave y los valores\n"
   ]
  },
  {
   "cell_type": "code",
   "execution_count": null,
   "metadata": {
    "colab": {
     "base_uri": "https://localhost:8080/"
    },
    "id": "R7bYlnE4nTav",
    "outputId": "80e6545d-adb4-4d8c-ac9f-16b5ee5e0e56"
   },
   "outputs": [
    {
     "name": "stdout",
     "output_type": "stream",
     "text": [
      "{1: 2, 3: 4}\n",
      "{1: 2, 3: 4, 5: 6}\n"
     ]
    },
    {
     "data": {
      "text/plain": [
       "{1: 2, 3: 4}"
      ]
     },
     "execution_count": 46,
     "metadata": {},
     "output_type": "execute_result"
    }
   ],
   "source": [
    "# problema a verificar\n",
    "#dict([1, 2, 3, 4])\n",
    "\n",
    "#solucion 1\n",
    "lista = [1, 2, 3, 4]\n",
    "diccionario1 = dict([(lista[i], lista[i+1]) for i in range(0, len(lista), 2)]) #itera de dos en dos y forma pares, el dict trasforma eso en diccionario\n",
    "print(diccionario1)  # Salida: {1: 2, 3: 4}\n",
    "\n",
    "#solucion 2\n",
    "lista = [1, 2, 3, 4, 5, 6]\n",
    "claves = lista[::2]  # [2, 4]  toma los valores en los indices pares\n",
    "valores = lista[1::2]  # [1, 3] toma los valores en los elementos impares\n",
    "diccionario2 = dict(zip(claves, valores)) #combina las claves con los valores\n",
    "print(diccionario2)  # Salida: {1: 2, 3: 4}\n",
    "\n",
    "# but this will work\n",
    "dict([(1, 2), (3, 4)])"
   ]
  },
  {
   "cell_type": "code",
   "execution_count": null,
   "metadata": {
    "colab": {
     "base_uri": "https://localhost:8080/"
    },
    "id": "IznLnBrLnY7z",
    "outputId": "04d21143-4e57-47cd-ddfa-600e3da52ecc"
   },
   "outputs": [
    {
     "name": "stdout",
     "output_type": "stream",
     "text": [
      "11\n",
      "0\n",
      "a\n",
      "ac\n"
     ]
    }
   ],
   "source": [
    "s = \"abracadabra\"  #define el string\n",
    "\n",
    "print(len(s))  #imprime la longitud del string\n",
    "print(s.index(\"a\"))  #encuentra el indice de la primera aparicion de \"a\"\n",
    "\n",
    "print(s[0])  #salida:a\n",
    "print(s[3:5])  #imprime los indices desde el 3 hasta el 5 sin contar"
   ]
  },
  {
   "cell_type": "code",
   "execution_count": null,
   "metadata": {
    "id": "9JWl_JZonb2V"
   },
   "outputs": [],
   "source": [
    "print('h' in 'abcd') #verifica si \"h \" esta en el string"
   ]
  },
  {
   "cell_type": "code",
   "execution_count": null,
   "metadata": {
    "colab": {
     "base_uri": "https://localhost:8080/"
    },
    "id": "lr4uA9wEnhpZ",
    "outputId": "da6eca75-c04b-47c9-baa2-bbbd9a7115fd"
   },
   "outputs": [
    {
     "name": "stdout",
     "output_type": "stream",
     "text": [
      "False\n"
     ]
    }
   ],
   "source": [
    "# this doesn't work for lists  #no funciona para buscar sublista en una lista, busca si a,b existe como elemento individual en la lista\n",
    "print(['a', 'b'] in ['a', 'b', 'c', 'd']) # False"
   ]
  },
  {
   "cell_type": "code",
   "execution_count": null,
   "metadata": {
    "colab": {
     "base_uri": "https://localhost:8080/"
    },
    "id": "OFXy6jzonlKS",
    "outputId": "70524b19-e946-4230-d604-852430251b85"
   },
   "outputs": [
    {
     "name": "stdout",
     "output_type": "stream",
     "text": [
      "['a', 'b', 'r', 'a', 'c', 'a', 'd', 'a', 'b', 'r', 'a']\n"
     ]
    }
   ],
   "source": [
    "abc_list = list(\"abracadabra\")  #convierte cada caracter del string en un elemento de la lista\n",
    "print(abc_list) #impirme la lista"
   ]
  },
  {
   "cell_type": "code",
   "execution_count": null,
   "metadata": {
    "colab": {
     "base_uri": "https://localhost:8080/"
    },
    "id": "3yJa6IXinpjQ",
    "outputId": "bcaf563f-9728-4243-d61d-12d89f7975f5"
   },
   "outputs": [
    {
     "name": "stdout",
     "output_type": "stream",
     "text": [
      "abracadabra\n"
     ]
    }
   ],
   "source": [
    "l = ['a', 'b', 'r', 'a', 'c', 'a', 'd', 'a', 'b', 'r', 'a']  #define la lista\n",
    "\n",
    "s = \"\".join(l)  #une la lista con \"\", es decir sin nada\n",
    "print(s) #imprime el resultado"
   ]
  },
  {
   "cell_type": "code",
   "execution_count": null,
   "metadata": {
    "id": "BT5XsBVbnsXm"
   },
   "outputs": [],
   "source": [
    "animals = ('cat', 'dog', 'fish') #define la lista"
   ]
  },
  {
   "cell_type": "code",
   "execution_count": null,
   "metadata": {
    "colab": {
     "base_uri": "https://localhost:8080/"
    },
    "id": "7PnhFeaVnu5l",
    "outputId": "7ebaec2c-804e-4b04-e968-540f5f2646e5"
   },
   "outputs": [
    {
     "name": "stdout",
     "output_type": "stream",
     "text": [
      "cat dog fish\n"
     ]
    }
   ],
   "source": [
    "print(\" \".join(animals))  #primero une los elementos de la lista con \" \", es decir un espacio y lo imprime"
   ]
  },
  {
   "cell_type": "code",
   "execution_count": null,
   "metadata": {
    "colab": {
     "base_uri": "https://localhost:8080/"
    },
    "id": "E-WomIO7n0zq",
    "outputId": "3c4bfcb1-8f99-45f3-9779-a867b0dcdd1b"
   },
   "outputs": [
    {
     "name": "stdout",
     "output_type": "stream",
     "text": [
      "cat,dog,fish\n"
     ]
    }
   ],
   "source": [
    "# a comma-separated list\n",
    "print(\",\".join(animals))"
   ]
  },
  {
   "cell_type": "code",
   "execution_count": null,
   "metadata": {
    "colab": {
     "base_uri": "https://localhost:8080/"
    },
    "id": "dziQp9CVn3jl",
    "outputId": "2b86f2b4-1e15-4850-8dfa-3ba0f82f6068"
   },
   "outputs": [
    {
     "name": "stdout",
     "output_type": "stream",
     "text": [
      "cat, dog, fish\n"
     ]
    }
   ],
   "source": [
    "# a comma-separated list with spaces separa la lista con \", \", es decir: coma y espacio\n",
    "print(\", \".join(animals))  #lo imprime\n"
   ]
  },
  {
   "cell_type": "code",
   "execution_count": null,
   "metadata": {
    "colab": {
     "base_uri": "https://localhost:8080/"
    },
    "id": "MJQtHRGpn7V_",
    "outputId": "514dac38-f2e1-4060-aaa2-a403307f7769"
   },
   "outputs": [
    {
     "name": "stdout",
     "output_type": "stream",
     "text": [
      "['cat', 'dog', 'fish']\n"
     ]
    }
   ],
   "source": [
    "print(\"cat    dog fish\\n\".split())  #divide el string por espacios en blanco, elimina los espacios extra y devuelve una lista por palabras"
   ]
  },
  {
   "cell_type": "code",
   "execution_count": null,
   "metadata": {
    "colab": {
     "base_uri": "https://localhost:8080/"
    },
    "id": "5ctMyoy3n-Cx",
    "outputId": "d17f350e-cf35-4b65-afe0-93fe54c5d880"
   },
   "outputs": [
    {
     "name": "stdout",
     "output_type": "stream",
     "text": [
      "['cat', 'dog', 'fish']\n"
     ]
    }
   ],
   "source": [
    "print(\"cat|dog|fish\".split(\"|\"))  #divide el string cada vez que haya un |"
   ]
  },
  {
   "cell_type": "code",
   "execution_count": null,
   "metadata": {
    "colab": {
     "base_uri": "https://localhost:8080/"
    },
    "id": "YttQQievoAJc",
    "outputId": "40ce1f1c-645c-487d-ebcd-7c78591e3f5f"
   },
   "outputs": [
    {
     "name": "stdout",
     "output_type": "stream",
     "text": [
      "['cat', 'dog', 'fish']\n"
     ]
    }
   ],
   "source": [
    "print(\"cat, dog, fish\".split(\", \")) #divide el string cada vez que haya una ,"
   ]
  },
  {
   "cell_type": "code",
   "execution_count": null,
   "metadata": {
    "colab": {
     "base_uri": "https://localhost:8080/"
    },
    "id": "M9h4dw77oCs-",
    "outputId": "0aefb680-8170-4404-8f2d-9ffdb817900a"
   },
   "outputs": [
    {
     "name": "stdout",
     "output_type": "stream",
     "text": [
      "['cat', 'dog', 'fish', 'hamster']\n"
     ]
    }
   ],
   "source": [
    "print(\"cat, dog, fish, hamster\".split(\", \",3))  #debe explicacion #indica cuantas divisiones se deben hacer teniendo en cuenta el numero de , en el string original"
   ]
  },
  {
   "cell_type": "markdown",
   "metadata": {
    "id": "71G5-Hheozfq"
   },
   "source": [
    "matrices"
   ]
  },
  {
   "cell_type": "code",
   "execution_count": null,
   "metadata": {
    "id": "SBFMMGsLoHsF"
   },
   "outputs": [],
   "source": [
    "my_table = [   #crea una matriz de 4 filas por 3 columnas\n",
    "    [1, 2, 3],\n",
    "    [4, 5, 6],\n",
    "    [7, 8, 9],\n",
    "    [10, 11, 12],\n",
    "]"
   ]
  },
  {
   "cell_type": "code",
   "execution_count": null,
   "metadata": {
    "colab": {
     "base_uri": "https://localhost:8080/"
    },
    "id": "TsPsD7a-oKf7",
    "outputId": "df3c3cc2-2b5d-4465-d3c0-2b85ceaeef52"
   },
   "outputs": [
    {
     "name": "stdout",
     "output_type": "stream",
     "text": [
      "1\n"
     ]
    }
   ],
   "source": [
    "print(my_table[0][0])  #selecciona la primera fila y accede al primer elemento de esa fila"
   ]
  },
  {
   "cell_type": "code",
   "execution_count": null,
   "metadata": {
    "colab": {
     "base_uri": "https://localhost:8080/"
    },
    "id": "Q7iYqV5zoNgk",
    "outputId": "3ccb4580-a139-4676-efec-35ecacf6a1c7"
   },
   "outputs": [
    {
     "name": "stdout",
     "output_type": "stream",
     "text": [
      "[[42, 2, 3], [4, 5, 6], [7, 8, 9], [10, 11, 12]]\n"
     ]
    }
   ],
   "source": [
    "my_table[0][0] = 42  #asigna el valor 42 al elemeto en la primera fila(indice 0) y primera columna (indice 0)\n",
    "print(my_table)   #imprime la matriz actualizada"
   ]
  },
  {
   "cell_type": "code",
   "execution_count": null,
   "metadata": {
    "colab": {
     "base_uri": "https://localhost:8080/"
    },
    "id": "oW_bViBjoRgQ",
    "outputId": "ed8c0fe5-ad29-4e46-9bdb-20e9cead9e60"
   },
   "outputs": [
    {
     "name": "stdout",
     "output_type": "stream",
     "text": [
      "[[0], [1, 2, 3, 4], [5, 6]]\n"
     ]
    }
   ],
   "source": [
    "my_2d_list = [\n",
    "    [0],             #se define una lista 2d donde cada sublista tiene diferente logitud, siendo una lista irregular\n",
    "    [1, 2, 3, 4],\n",
    "    [5, 6],\n",
    "]\n",
    "print(my_2d_list)   #imprime la lista completa"
   ]
  },
  {
   "cell_type": "markdown",
   "metadata": {
    "id": "LQmrVvnGos0n"
   },
   "source": [
    "listas de listas"
   ]
  },
  {
   "cell_type": "code",
   "execution_count": null,
   "metadata": {
    "colab": {
     "base_uri": "https://localhost:8080/"
    },
    "id": "grM2Y1uMoUid",
    "outputId": "fb5913db-5e84-42bc-da04-0278bf9b27cb"
   },
   "outputs": [
    {
     "name": "stdout",
     "output_type": "stream",
     "text": [
      "1\n"
     ]
    }
   ],
   "source": [
    "my_3d_list = [        #crea una lista 3d(lista de listas)\n",
    "    [[1, 2], [3, 4]],   #primer bloque 2d\n",
    "    [[5, 6], [7, 8]],   #segundo bloque\n",
    "]\n",
    "print(my_3d_list[0][0][0])  #imprime el elemento en la posicion [0][0][0](primer bloque, primera fila, primera columna )"
   ]
  },
  {
   "cell_type": "code",
   "execution_count": null,
   "metadata": {
    "colab": {
     "base_uri": "https://localhost:8080/"
    },
    "id": "1V6B-Tuwoco-",
    "outputId": "1d6d96ad-c977-4b1d-a289-eb8a9fb15d83"
   },
   "outputs": [
    {
     "name": "stdout",
     "output_type": "stream",
     "text": [
      "[0, 0, 0, 0, 0, 0, 0, 0, 0, 0, 0, 0, 0, 0, 0, 0, 0, 0, 0, 0, 0, 0, 0, 0, 0, 0, 0, 0, 0, 0, 0, 0, 0, 0, 0, 0, 0, 0, 0, 0, 0, 0, 0, 0, 0, 0, 0, 0, 0, 0, 0, 0, 0, 0, 0, 0, 0, 0, 0, 0, 0, 0, 0, 0, 0, 0, 0, 0, 0, 0, 0, 0, 0, 0, 0, 0, 0, 0, 0, 0, 0, 0, 0, 0, 0, 0, 0, 0, 0, 0, 0, 0, 0, 0, 0, 0, 0, 0, 0, 0]\n"
     ]
    }
   ],
   "source": [
    "my_long_list = [0] * 100 # crea una lista con 100 ceros usando *\n",
    "print(my_long_list)  #impirme la lista creada, que son 100 ceros"
   ]
  },
  {
   "cell_type": "code",
   "execution_count": null,
   "metadata": {
    "colab": {
     "base_uri": "https://localhost:8080/"
    },
    "id": "r4H2Ai8eogFi",
    "outputId": "5a5eeb2d-7d4c-4c17-8d82-ce753f4291c2"
   },
   "outputs": [
    {
     "name": "stdout",
     "output_type": "stream",
     "text": [
      "['', '', '', '', '', '', '', '', '', '', '', '', '', '', '', '', '', '', '', '', '', '', '', '']\n"
     ]
    }
   ],
   "source": [
    "day = [\"\"] * 24  #crea una lista de elemento \"\" y lo multiplica por 24\n",
    "print(day)"
   ]
  },
  {
   "cell_type": "code",
   "execution_count": null,
   "metadata": {
    "colab": {
     "base_uri": "https://localhost:8080/"
    },
    "id": "4mtVcS_toiTw",
    "outputId": "7add0a05-999d-4128-b33f-2a025d27a05e"
   },
   "outputs": [
    {
     "name": "stdout",
     "output_type": "stream",
     "text": [
      "['', '', '', '', '', '', '', '', '', '', '', '', '', '', '', '', '', '', '', '', '', '', '', '', '', '', '', '', '', '', '', '', '', '', '', '', '', '', '', '', '', '', '', '', '', '', '', '', '', '', '', '', '', '', '', '', '', '', '', '', '', '', '', '', '', '', '', '', '', '', '', '', '', '', '', '', '', '', '', '', '', '', '', '', '', '', '', '', '', '', '', '', '', '', '', '', '', '', '', '', '', '', '', '', '', '', '', '', '', '', '', '', '', '', '', '', '', '', '', '', '', '', '', '', '', '', '', '', '', '', '', '', '', '', '', '', '', '', '', '', '', '', '', '', '', '', '', '', '', '', '', '', '', '', '', '', '', '', '', '', '', '', '', '', '', '', '', '']\n"
     ]
    }
   ],
   "source": [
    "timetable = day * 7 #crea 7 referencias de la misma lista\n",
    "print(timetable)  #impirme"
   ]
  },
  {
   "cell_type": "code",
   "execution_count": null,
   "metadata": {
    "colab": {
     "base_uri": "https://localhost:8080/"
    },
    "id": "unREgoZGokH9",
    "outputId": "66906f4d-c0d3-45a4-b51a-bfb50e7927af"
   },
   "outputs": [
    {
     "name": "stdout",
     "output_type": "stream",
     "text": [
      "[['', '', '', '', '', '', '', '', '', '', '', '', '', '', '', '', '', '', '', '', '', '', '', ''], ['', '', '', '', '', '', '', '', '', '', '', '', '', '', '', '', '', '', '', '', '', '', '', ''], ['', '', '', '', '', '', '', '', '', '', '', '', '', '', '', '', '', '', '', '', '', '', '', ''], ['', '', '', '', '', '', '', '', '', '', '', '', '', '', '', '', '', '', '', '', '', '', '', ''], ['', '', '', '', '', '', '', '', '', '', '', '', '', '', '', '', '', '', '', '', '', '', '', ''], ['', '', '', '', '', '', '', '', '', '', '', '', '', '', '', '', '', '', '', '', '', '', '', ''], ['', '', '', '', '', '', '', '', '', '', '', '', '', '', '', '', '', '', '', '', '', '', '', '']]\n"
     ]
    }
   ],
   "source": [
    "timetable = [[\"\"] * 24 for day in range(7)]   #crea una matriz de 7*24, 7 dias, 24 horas, donde cada dia es una lista independiente de 24 elemetos \"\n",
    "print(timetable)  #imprime"
   ]
  }
 ],
 "metadata": {
  "colab": {
   "provenance": []
  },
  "kernelspec": {
   "display_name": "Python 3",
   "name": "python3"
  },
  "language_info": {
   "name": "python"
  }
 },
 "nbformat": 4,
 "nbformat_minor": 0
}
