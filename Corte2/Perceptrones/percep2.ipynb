{
 "cells": [
  {
   "cell_type": "code",
   "execution_count": null,
   "metadata": {
    "colab": {
     "base_uri": "https://localhost:8080/"
    },
    "id": "BrjbwyaNdCu2",
    "outputId": "575206fc-9f3c-46c0-97ad-2ad18de04c84"
   },
   "outputs": [
    {
     "name": "stdout",
     "output_type": "stream",
     "text": [
      " Weigth:2.95 Cost:  27.08\n",
      " Weigth:1.52 Cost:  6.77\n",
      " Weigth:2.24 Cost:  1.69\n",
      " Weigth:1.88 Cost:  0.42\n",
      " Weigth:2.06 Cost:  0.11\n",
      " Weigth:1.97 Cost:  0.03\n",
      " Weigth:2.01 Cost:  0.01\n",
      " Weigth:1.99 Cost:  0.00\n",
      " Weigth:2.00 Cost:  0.00\n",
      " Weigth:2.00 Cost:  0.00\n",
      " Weigth:2.00 Cost:  0.00\n",
      " Weigth:2.00 Cost:  0.00\n",
      " Weigth:2.00 Cost:  0.00\n",
      " Weigth:2.00 Cost:  0.00\n",
      " Weigth:2.00 Cost:  0.00\n",
      " Weigth:2.00 Cost:  0.00\n",
      " Weigth:2.00 Cost:  0.00\n",
      " Weigth:2.00 Cost:  0.00\n",
      " Weigth:2.00 Cost:  0.00\n",
      " Weigth:2.00 Cost:  0.00\n",
      " Weigth:2.00 Cost:  0.00\n",
      " Weigth:2.00 Cost:  0.00\n",
      " Weigth:2.00 Cost:  0.00\n",
      " Weigth:2.00 Cost:  0.00\n",
      " Weigth:2.00 Cost:  0.00\n",
      " Weigth:2.00 Cost:  0.00\n",
      " Weigth:2.00 Cost:  0.00\n",
      " Weigth:2.00 Cost:  0.00\n",
      " Weigth:2.00 Cost:  0.00\n",
      " Weigth:2.00 Cost:  0.00\n"
     ]
    }
   ],
   "source": [
    "valores=[2, 4, 6, 8]\n",
    "objetivos=[4, 8, 12, 16]\n",
    "peso=0.05\n",
    "epocas= 25\n",
    "tasa_aprendizaje=0.05\n",
    "\n",
    "def predecir(i):\n",
    "  return peso*i\n",
    "\n",
    "for _ in range(epocas):\n",
    "  pred=[predecir(i)for i in valores]\n",
    "  errors=[(p-t)**2 for p, t in zip(pred,objetivos)]\n",
    "  cost=sum (errors)/len(objetivos)\n",
    "  errors_d=[2*(p-t) for p, t in zip(pred,objetivos)]\n",
    "  pesoeight_d=[e*i for e, i in zip(errors_d,valores)]\n",
    "  peso-=tasa_aprendizaje*sum(pesoeight_d)/len(pesoeight_d)\n",
    "\n",
    "\n",
    "  print(f\" Weigth:{peso:.2f} Cost:  {cost:.2f}\")\n",
    "\n"
   ]
  }
 ],
 "metadata": {
  "colab": {
   "provenance": []
  },
  "kernelspec": {
   "display_name": "Python 3",
   "name": "python3"
  },
  "language_info": {
   "name": "python"
  }
 },
 "nbformat": 4,
 "nbformat_minor": 0
}
